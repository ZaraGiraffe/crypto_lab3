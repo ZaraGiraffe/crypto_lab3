{
 "cells": [
  {
   "cell_type": "code",
   "execution_count": 1,
   "id": "initial_id",
   "metadata": {
    "collapsed": true,
    "ExecuteTime": {
     "end_time": "2024-05-22T10:48:11.187858400Z",
     "start_time": "2024-05-22T10:48:11.125005600Z"
    }
   },
   "outputs": [],
   "source": [
    "from src.utils import send_message, get_message, encrypt_message, decrypt_message"
   ]
  },
  {
   "cell_type": "code",
   "execution_count": 2,
   "outputs": [],
   "source": [
    "send_data = {\n",
    "    \"from_name\": \"Alice\",\n",
    "    \"to_name\": \"Bob\",\n",
    "    \"message\": \"hello2\",\n",
    "    \"hash_data\": \"dlihrgiashglafbdbhoj\"\n",
    "}"
   ],
   "metadata": {
    "collapsed": false
   },
   "id": "17fc5796cfa9988d"
  },
  {
   "cell_type": "code",
   "execution_count": 3,
   "outputs": [],
   "source": [
    "response = send_message(**send_data)"
   ],
   "metadata": {
    "collapsed": false
   },
   "id": "3cb4a48d929e5809"
  },
  {
   "cell_type": "code",
   "execution_count": 4,
   "outputs": [
    {
     "data": {
      "text/plain": "{'status': 'good'}"
     },
     "execution_count": 4,
     "metadata": {},
     "output_type": "execute_result"
    }
   ],
   "source": [
    "response"
   ],
   "metadata": {
    "collapsed": false
   },
   "id": "d1c0d4d9771c0756"
  },
  {
   "cell_type": "code",
   "execution_count": 40,
   "outputs": [],
   "source": [
    "get_data = {\n",
    "    \"from_name\": \"Alice\",\n",
    "    \"to_name\": \"Bob\"\n",
    "}"
   ],
   "metadata": {
    "collapsed": false
   },
   "id": "f54a88775c5325be"
  },
  {
   "cell_type": "code",
   "execution_count": 41,
   "outputs": [],
   "source": [
    "response = get_message(**get_data)"
   ],
   "metadata": {
    "collapsed": false
   },
   "id": "b462b611056c314f"
  },
  {
   "cell_type": "code",
   "execution_count": 42,
   "outputs": [
    {
     "data": {
      "text/plain": "{'hash': 'dlihrgiashglafbdbhoj', 'message': 'hello2'}"
     },
     "execution_count": 42,
     "metadata": {},
     "output_type": "execute_result"
    }
   ],
   "source": [
    "response"
   ],
   "metadata": {
    "collapsed": false
   },
   "id": "e7e079627549d761"
  }
 ],
 "metadata": {
  "kernelspec": {
   "display_name": "Python 3",
   "language": "python",
   "name": "python3"
  },
  "language_info": {
   "codemirror_mode": {
    "name": "ipython",
    "version": 2
   },
   "file_extension": ".py",
   "mimetype": "text/x-python",
   "name": "python",
   "nbconvert_exporter": "python",
   "pygments_lexer": "ipython2",
   "version": "2.7.6"
  }
 },
 "nbformat": 4,
 "nbformat_minor": 5
}
